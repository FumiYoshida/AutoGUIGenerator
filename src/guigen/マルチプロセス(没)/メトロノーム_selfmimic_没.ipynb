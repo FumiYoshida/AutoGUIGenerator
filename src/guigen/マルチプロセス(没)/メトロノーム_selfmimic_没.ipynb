{
 "cells": [
  {
   "cell_type": "code",
   "execution_count": 1,
   "id": "6b3aba69",
   "metadata": {},
   "outputs": [],
   "source": [
    "from mmapdict import MMapDict\n",
    "\n",
    "from matplotlib.backends.backend_tkagg import FigureCanvasTkAgg\n",
    "from matplotlib.animation import FuncAnimation\n",
    "import matplotlib.pyplot as plt\n",
    "import numpy as np\n",
    "import tkinter as tk\n",
    "\n",
    "import pickle\n",
    "import shutil\n",
    "import os\n",
    "import glob\n",
    "\n",
    "from retry import retry\n",
    "\n",
    "import functools"
   ]
  },
  {
   "cell_type": "code",
   "execution_count": 2,
   "id": "9fa5656e",
   "metadata": {},
   "outputs": [],
   "source": [
    "def function_name(func):\n",
    "    \"\"\"関数に一意な名前を付ける\"\"\"\n",
    "    if hasattr(func, \"__self__\"):\n",
    "        # クラスメソッドのとき\n",
    "        # クラス名.関数名　を返す\n",
    "        class_name = func.__self__.__class__.__name__\n",
    "        return f\"{class_name}.{func.__name__}\"\n",
    "    else:\n",
    "        # クラスメソッドでないとき\n",
    "        return func.__name__"
   ]
  },
  {
   "cell_type": "code",
   "execution_count": 3,
   "id": "fa4e310e",
   "metadata": {},
   "outputs": [],
   "source": [
    "from utils import time_manager\n",
    "import threading\n",
    "from concurrent.futures import ThreadPoolExecutor\n",
    "\n",
    "class Scheduler:\n",
    "    def __init__(self, tasks=[], interval_sec=1, max_workers=10):\n",
    "        self.tasks = tasks\n",
    "        self.interval_sec = interval_sec\n",
    "        self.max_workers = max_workers\n",
    "        self.should_stop = False\n",
    "        self.thread = threading.Thread(target=self.schedule)\n",
    "        \n",
    "    def __del__(self):\n",
    "        self.stop()\n",
    "        \n",
    "    def exec_all_tasks(self):\n",
    "        for task in self.tasks:\n",
    "            task()\n",
    "        \n",
    "    def schedule(self):\n",
    "        \"\"\"任意の処理を定期的に実行する\"\"\"\n",
    "        \n",
    "        # 必要以上にスレッドが生成されないようにスレッドプールを使う\n",
    "        with ThreadPoolExecutor(max_workers=self.max_workers) as executor:\n",
    "            while not self.should_stop:\n",
    "                time_manager.wait_if_pace_too_fast(self.interval_sec)\n",
    "                future = executor.submit(self.exec_all_tasks)\n",
    "    \n",
    "    def register(self, task):\n",
    "        self.tasks.append(task)\n",
    "    \n",
    "    def start(self):\n",
    "        self.thread.start()\n",
    "    \n",
    "    def stop(self):\n",
    "        self.should_stop = True"
   ]
  },
  {
   "cell_type": "code",
   "execution_count": 4,
   "id": "cc778eb4",
   "metadata": {},
   "outputs": [],
   "source": [
    "class SelfMimic:\n",
    "    def __init__(self, savedir):\n",
    "        \"\"\"他のプロセスの特定のオブジェクトのようにふるまう\"\"\"\n",
    "        self._dict = MMapDict(savedir)\n",
    "        \n",
    "    def __getattr__(self, name):\n",
    "        if 'button' not in self._dict:\n",
    "            return None\n",
    "        else:\n",
    "            return self._dict[name]\n",
    "\n",
    "class TkParams:\n",
    "    def __init__(self, savedir='./tk_params/', gui_process=True, instance=None):\n",
    "        self.savedir = savedir\n",
    "        self.gui_process = gui_process\n",
    "        if not gui_process:\n",
    "            if os.path.exists(savedir):\n",
    "                shutil.rmtree(savedir)\n",
    "            os.makedirs(savedir)\n",
    "            os.makedirs(f\"{savedir}widgets/\")\n",
    "        \n",
    "        self.widgets = {\n",
    "            \"slider\": MMapDict(f\"{savedir}widgets/slider/\"),\n",
    "            \"toggle_button\": MMapDict(f\"{savedir}widgets/toggle_button/\"),\n",
    "            \"button\": MMapDict(f\"{savedir}widgets/button/\"),\n",
    "        }\n",
    "        \n",
    "        self.sliders = MMapDict(f\"{savedir}slider/\")\n",
    "        self.toggle_buttons = MMapDict(f\"{savedir}toggle_button/\")\n",
    "        self.buttons = MMapDict(f\"{savedir}button/\")\n",
    "        \n",
    "        self.mimic = SelfMimic(f\"{savedir}self/\")\n",
    "        \n",
    "        if not gui_process:\n",
    "            self.instance = instance\n",
    "            \n",
    "            self.observer = Scheduler(interval_sec=0.1)\n",
    "            self.observer.start()\n",
    "        \n",
    "    def __del__(self):\n",
    "        self.observer.stop()\n",
    "        \n",
    "    def give_mimic_info(self):\n",
    "        for key in self.mimic._dict.keys():\n",
    "            self.mimic[key] = getattr(self.instance, key)\n",
    "        \n",
    "    def get_float(self, key, from_=0, to=1, resolution=None, default=None):\n",
    "        if key in self.sliders:\n",
    "            # GUIにすでにウィジェットがあったら\n",
    "            return float(self.sliders[key])\n",
    "        else:\n",
    "            # GUIにまだウィジェットがなかったら\n",
    "            # ウィジェットを追加するよう伝えつつ、今回はデフォルト値を返す\n",
    "            self.widgets[\"slider\"][key] = {\n",
    "                'name': key,\n",
    "                'from_': from_,\n",
    "                'to': to,\n",
    "                'resolution': resolution,\n",
    "                'default': default,\n",
    "            }\n",
    "            return from_ if default is None else default\n",
    "        \n",
    "    def get_bool(self, key, default=None):\n",
    "        if key in self.toggle_buttons:\n",
    "            return bool(self.toggle_buttons[key])\n",
    "        else:\n",
    "            self.widgets[\"toggle_button\"][key] = {\n",
    "                'name': key,\n",
    "            }\n",
    "            return False if default is None else default\n",
    "        \n",
    "    def _called(self, key):\n",
    "        try:\n",
    "            has_called = bool(self.buttons[key])\n",
    "            self.buttons[key] = False\n",
    "        except KeyError:\n",
    "            has_called = False\n",
    "        return has_called\n",
    "        \n",
    "    def button(self, func):\n",
    "        # ボタンが押されたことを検知した時点で関数を実行するよう登録する\n",
    "        assert not self.gui_process\n",
    "        key = function_name(func)\n",
    "        self.widgets[\"button\"][key] = {\n",
    "            'name': key,\n",
    "        }\n",
    "        def exec_if_called():\n",
    "            if self._called(key):\n",
    "                func()\n",
    "        self.observer.register(exec_if_called)"
   ]
  },
  {
   "cell_type": "code",
   "execution_count": 5,
   "id": "00e75cd0",
   "metadata": {},
   "outputs": [],
   "source": [
    "class Application(tk.Tk):\n",
    "    def __init__(self, title='GUI App', dt=100):\n",
    "        super().__init__()\n",
    "        self.title(title)\n",
    "        \n",
    "        # 画面をグラフを配置する場所とボタン等を配置する場所に分ける\n",
    "        self.canvas_frame = tk.Frame(self)\n",
    "        self.canvas_frame.pack(side=tk.LEFT)\n",
    "        self.control_frame = tk.Frame(self)\n",
    "        self.control_frame.pack(side=tk.RIGHT)\n",
    "        \n",
    "        #self.figures = {}\n",
    "        self.sliders = {}\n",
    "        self.toggle_buttons = {}\n",
    "        self.buttons = {}\n",
    "        \n",
    "        # TODO: 配布しても問題ない画像を作成してgithubにあげる\n",
    "        self.on_image = tk.PhotoImage(file = \"./not_authorized_for_redistribution/toggle_on_transparent.png\").subsample(5)\n",
    "        self.off_image = tk.PhotoImage(file = \"./not_authorized_for_redistribution/toggle_off_transparent.png\").subsample(5)\n",
    "        \n",
    "        self.tkparams = TkParams()\n",
    "        \n",
    "        self.dt = dt\n",
    "        self.update_widget()\n",
    "\n",
    "    def add_figure(self, name, init_anim, update_anim):\n",
    "        #self.figures[name] = Figure(self, name, init_anim, update_anim)\n",
    "        init_anim_with_self = lambda : init_anim(self.tkparams.mimic)\n",
    "        update_anim_with_self = lambda : update_anim(self.tkparams.mimic)\n",
    "        self.figure = Figure(self, name, init_anim_with_self, update_anim_with_self)\n",
    "        \n",
    "    def add_slider(self, name, from_=0, to=1, resolution=None, default=None):\n",
    "        self.sliders[name] = Slider(self, name, from_, to, resolution, default)\n",
    "        \n",
    "    def add_toggle_button(self, name):\n",
    "        self.toggle_buttons[name] = ToggleButton(self, name, self.on_image, self.off_image)\n",
    "        \n",
    "    def add_button(self, name):\n",
    "        self.buttons[name] = Button(self, name)\n",
    "    \n",
    "    def update_widget(self):\n",
    "        slider_params = self.tkparams.widgets[\"slider\"]\n",
    "        for name in (set(slider_params) - set(self.sliders)): # まだ追加していないスライダーについてループ\n",
    "            self.add_slider(**slider_params[name])\n",
    "            \n",
    "        toggle_button_params = self.tkparams.widgets[\"toggle_button\"]\n",
    "        for name in (set(toggle_button_params) - set(self.toggle_buttons)):\n",
    "            self.add_toggle_button(**toggle_button_params[name])\n",
    "            \n",
    "        button_params = self.tkparams.widgets[\"button\"]\n",
    "        for name in (set(button_params) - set(self.buttons)):\n",
    "            self.add_button(**button_params[name])\n",
    "            \n",
    "        # dt[ms]後にこの関数自身を呼び出す\n",
    "        self.after(self.dt, self.update_widget)\n",
    "\n",
    "class Figure:\n",
    "    def __init__(self, app, name, init_anim, update_anim):\n",
    "        self.app = app\n",
    "        self.name = name\n",
    "        \n",
    "        self.fig = plt.figure(figsize=(5, 5))\n",
    "        self.ax = self.fig.add_subplot(111)\n",
    "        self.canvas = FigureCanvasTkAgg(self.fig, self.app.canvas_frame)\n",
    "        self.canvas.get_tk_widget().pack(side=tk.TOP, fill=tk.BOTH, expand=True)\n",
    "        \n",
    "        self.init_anim = lambda : init_anim(self.ax)\n",
    "        self.update_anim = update_anim\n",
    "        \n",
    "        self.ani = None\n",
    "        self.draw_plot()\n",
    "        \n",
    "    def draw_plot(self, event=None):\n",
    "           # すでにアニメーションが実行されている場合はevent_source.stopで停止\n",
    "        if self.ani is not None:\n",
    "            self.ani.event_source.stop()\n",
    "            self.ax.clear()\n",
    "\n",
    "        self.ani = FuncAnimation(\n",
    "              self.fig,  # Figureオブジェクト\n",
    "              self.update_anim,  # グラフ更新関数\n",
    "              init_func=self.init_anim,  # 初期化関数\n",
    "              interval = self.app.dt,  # 更新間隔(ms)\n",
    "              blit = True,\n",
    "        )\n",
    "        self.canvas.draw()\n",
    "        \n",
    "class Widget:\n",
    "    def __init__(self, app, name):\n",
    "        self.app = app\n",
    "        self.name = name\n",
    "        \n",
    "        # 枠の作成\n",
    "        self.frame = tk.Frame(app.control_frame, bd=1, relief=tk.SUNKEN)\n",
    "        self.frame.pack(fill=tk.X)\n",
    "    \n",
    "        # 説明テキストの作成\n",
    "        self.control_label = tk.Label(self.frame, text=self.name)\n",
    "        self.control_label.pack(side='left')\n",
    "        \n",
    "        \n",
    "class Slider(Widget):\n",
    "    def __init__(self, app, name, from_=0, to=1, resolution=None, default=None):\n",
    "        super().__init__(app, name)\n",
    "        \n",
    "        self.app.tkparams.sliders[self.name] = from_ if default is None else default\n",
    "    \n",
    "        self.var = tk.DoubleVar()\n",
    "        self.x_scale = tk.Scale(\n",
    "            self.frame,\n",
    "            variable=self.var,\n",
    "            from_=from_,\n",
    "            to=to,\n",
    "            resolution=(to - from_) * 0.01 if resolution is None else resolution,\n",
    "            orient=tk.HORIZONTAL,\n",
    "            command=self.on_change,\n",
    "        )\n",
    "        self.x_scale.pack(anchor=tk.E)\n",
    "        \n",
    "    def on_change(self, event=None):\n",
    "        self.app.tkparams.sliders[self.name] = self.var.get()\n",
    "        \n",
    "class ToggleButton(Widget):\n",
    "    def __init__(self, app, name, on_image, off_image):\n",
    "        super().__init__(app, name)\n",
    "        self.on_image = on_image\n",
    "        self.off_image = off_image\n",
    "        self.is_on = False\n",
    "        \n",
    "        self.button = tk.Button(\n",
    "            self.frame, \n",
    "            image = off_image, \n",
    "            relief='sunken', \n",
    "            bd = 0, \n",
    "            command = self.switch\n",
    "        )\n",
    "        self.button.pack(anchor=tk.E)\n",
    "    \n",
    "    def switch(self):\n",
    "        if self.is_on:\n",
    "            self.button.config(image = self.off_image)\n",
    "            self.is_on = False\n",
    "            self.app.tkparams.toggle_buttons[self.name] = False\n",
    "        else:\n",
    "            self.button.config(image = self.on_image)\n",
    "            self.is_on = True\n",
    "            self.app.tkparams.toggle_buttons[self.name] = True\n",
    "            \n",
    "class Button(Widget):\n",
    "    def __init__(self, app, name):\n",
    "        super().__init__(app, name)\n",
    "        \n",
    "        self.button = tk.Button(\n",
    "            self.frame, \n",
    "            text=self.name,\n",
    "            command = self.press\n",
    "        )\n",
    "        self.button.pack(anchor=tk.E)\n",
    "    \n",
    "    def press(self):\n",
    "        self.app.tkparams.buttons[self.name] = True"
   ]
  },
  {
   "cell_type": "code",
   "execution_count": 7,
   "id": "7d39789f",
   "metadata": {},
   "outputs": [],
   "source": [
    "\n",
    "class Furiko:\n",
    "    def __init__(self):\n",
    "        self.reset()\n",
    "        self.theta_0 = np.pi / 4 # 初期の角度\n",
    "        self.marker_size = 12\n",
    "        self.tkparams = TkParams(gui_process=False, instance=self)\n",
    "        self.tkparams.button(self.random)\n",
    "        \n",
    "    def random(self):\n",
    "        self.im.set_color(np.random.rand(3,))\n",
    "        \n",
    "    def reset(self):\n",
    "        bpm = self.tkparams.get_float('bpm', 30, 200, 1)\n",
    "        self.g = 1.62 if self.tkparams.get_bool(\"apply lunar gravity\") else 9.8   # 重力加速度\n",
    "        self.T = round(1 / (bpm / 60), 2) # BPを取得し、周期の計算\n",
    "        self.l = (self.T ** 2) * self.g / (4 * np.pi ** 2)  # 振り子の長さを計算\n",
    "        self.omega = np.sqrt(self.g / self.l)  # 角速度\n",
    "        \n",
    "    def init_anim(self, ax):\n",
    "        '''アニメーション初期化用の関数'''\n",
    "        ax.set_xlim(-1.2,1.2)\n",
    "        ax.set_ylim(-1.2,1.2)\n",
    "        self.im, = ax.plot([], [], color='k', marker='o', markersize=int(self.marker_size), linestyle='None')\n",
    "        self.line, = ax.plot([], [], color='k')\n",
    "        \n",
    "        return self.im, self.line\n",
    "\n",
    "    def update_anim(self, dt):\n",
    "        '''グラフ更新関数'''\n",
    "        self.reset()\n",
    "        \n",
    "        self.theta = self.theta_0 * np.cos(self.omega * dt / 20)\n",
    "        x = self.l * np.sin(self.theta)\n",
    "        y = - self.l * np.cos(self.theta)\n",
    "        self.im.set_data(x, y)\n",
    "        self.line.set_data([0, np.sin(self.theta)], [0, -np.cos(self.theta)])\n",
    "        return self.im, self.line"
   ]
  },
  {
   "cell_type": "code",
   "execution_count": null,
   "id": "a3c1386a",
   "metadata": {},
   "outputs": [],
   "source": [
    "\n",
    "        \n",
    "\n",
    "        \n"
   ]
  },
  {
   "cell_type": "code",
   "execution_count": 7,
   "id": "9f628df2",
   "metadata": {},
   "outputs": [
    {
     "data": {
      "image/png": "[encoded data removed]",
      "text/plain": [
       "<Figure size 360x360 with 1 Axes>"
      ]
     },
     "metadata": {
      "needs_background": "light"
     },
     "output_type": "display_data"
    }
   ],
   "source": [
    "app = Application(dt=50)\n",
    "furiko = Furiko()\n",
    "app.add_figure('furiko', furiko.init_anim, furiko.update_anim)\n",
    "app.mainloop()"
   ]
  },
  {
   "cell_type": "code",
   "execution_count": null,
   "id": "b00a100b",
   "metadata": {},
   "outputs": [],
   "source": []
  },
  {
   "cell_type": "code",
   "execution_count": 7,
   "id": "85f80044",
   "metadata": {},
   "outputs": [],
   "source": [
    "mm = MMapDict('./tk_params/self/')"
   ]
  },
  {
   "cell_type": "code",
   "execution_count": null,
   "id": "1af55f94",
   "metadata": {},
   "outputs": [],
   "source": []
  },
  {
   "cell_type": "code",
   "execution_count": 8,
   "id": "9763abca",
   "metadata": {},
   "outputs": [
    {
     "ename": "SyntaxError",
     "evalue": "invalid syntax (Temp/ipykernel_1124/2598888547.py, line 6)",
     "output_type": "error",
     "traceback": [
      "\u001b[1;36m  File \u001b[1;32m\"C:\\Users\\kose\\AppData\\Local\\Temp/ipykernel_1124/2598888547.py\"\u001b[1;36m, line \u001b[1;32m6\u001b[0m\n\u001b[1;33m    self.\u001b[0m\n\u001b[1;37m         ^\u001b[0m\n\u001b[1;31mSyntaxError\u001b[0m\u001b[1;31m:\u001b[0m invalid syntax\n"
     ]
    }
   ],
   "source": []
  },
  {
   "cell_type": "code",
   "execution_count": null,
   "id": "aa62c3b0",
   "metadata": {},
   "outputs": [],
   "source": []
  },
  {
   "cell_type": "code",
   "execution_count": null,
   "id": "f6cba6a1",
   "metadata": {},
   "outputs": [],
   "source": []
  },
  {
   "cell_type": "code",
   "execution_count": 13,
   "id": "cbae9ea6",
   "metadata": {},
   "outputs": [],
   "source": [
    "import glob"
   ]
  },
  {
   "cell_type": "code",
   "execution_count": 18,
   "id": "161fd557",
   "metadata": {},
   "outputs": [],
   "source": [
    "path = glob.glob(savedir+'*')[0]\n",
    "filename = path.replace('\\\\', '/').removeprefix(savedir)\n",
    "key = '.'.join(filename.split('.')[:-1])"
   ]
  },
  {
   "cell_type": "code",
   "execution_count": 1,
   "id": "13f04bbc",
   "metadata": {},
   "outputs": [],
   "source": [
    "from kabusapi import KabuStationAPI"
   ]
  },
  {
   "cell_type": "code",
   "execution_count": 35,
   "id": "29682582",
   "metadata": {},
   "outputs": [
    {
     "data": {
      "text/plain": [
       "'0'"
      ]
     },
     "execution_count": 35,
     "metadata": {},
     "output_type": "execute_result"
    }
   ],
   "source": [
    "KabuStationAPI(account_type='corporation')"
   ]
  },
  {
   "cell_type": "code",
   "execution_count": 26,
   "id": "61b888c2",
   "metadata": {},
   "outputs": [
    {
     "data": {
      "text/plain": [
       "'./temp\\\\\\\\'"
      ]
     },
     "execution_count": 26,
     "metadata": {},
     "output_type": "execute_result"
    }
   ],
   "source": [
    "r'./temp\\\\'"
   ]
  },
  {
   "cell_type": "code",
   "execution_count": 9,
   "id": "2d14497b",
   "metadata": {},
   "outputs": [
    {
     "name": "stdout",
     "output_type": "stream",
     "text": [
      "> \u001b[1;32mc:\\users\\kose\\onedrive\\ドキュメント\\github\\autoguigenerator\\src\\guigen\\mmapdict.py\u001b[0m(85)\u001b[0;36m__getitem__\u001b[1;34m()\u001b[0m\n",
      "\u001b[1;32m     83 \u001b[1;33m            \u001b[0mvalue\u001b[0m \u001b[1;33m=\u001b[0m \u001b[0mself\u001b[0m\u001b[1;33m.\u001b[0m\u001b[0mmmaps\u001b[0m\u001b[1;33m[\u001b[0m\u001b[0mkey\u001b[0m\u001b[1;33m]\u001b[0m\u001b[1;33m.\u001b[0m\u001b[0mread\u001b[0m\u001b[1;33m(\u001b[0m\u001b[1;33m)\u001b[0m\u001b[1;33m\u001b[0m\u001b[1;33m\u001b[0m\u001b[0m\n",
      "\u001b[0m\u001b[1;32m     84 \u001b[1;33m        \u001b[1;32mexcept\u001b[0m \u001b[0mpickle\u001b[0m\u001b[1;33m.\u001b[0m\u001b[0mUnpicklingError\u001b[0m \u001b[1;32mas\u001b[0m \u001b[0me\u001b[0m\u001b[1;33m:\u001b[0m\u001b[1;33m\u001b[0m\u001b[1;33m\u001b[0m\u001b[0m\n",
      "\u001b[0m\u001b[1;32m---> 85 \u001b[1;33m            \u001b[1;32mraise\u001b[0m \u001b[0mKeyError\u001b[0m\u001b[1;33m(\u001b[0m\u001b[0mkey\u001b[0m\u001b[1;33m)\u001b[0m \u001b[1;32mfrom\u001b[0m \u001b[0me\u001b[0m\u001b[1;33m\u001b[0m\u001b[1;33m\u001b[0m\u001b[0m\n",
      "\u001b[0m\u001b[1;32m     86 \u001b[1;33m\u001b[1;33m\u001b[0m\u001b[0m\n",
      "\u001b[0m\u001b[1;32m     87 \u001b[1;33m        \u001b[1;32mreturn\u001b[0m \u001b[0mvalue\u001b[0m\u001b[1;33m\u001b[0m\u001b[1;33m\u001b[0m\u001b[0m\n",
      "\u001b[0m\n",
      "ipdb> key\n",
      "0\n",
      "ipdb> ll\n",
      "\u001b[0;32m     78 \u001b[0m    \u001b[1;32mdef\u001b[0m \u001b[0m__getitem__\u001b[0m\u001b[1;33m(\u001b[0m\u001b[0mself\u001b[0m\u001b[1;33m,\u001b[0m \u001b[0mkey\u001b[0m\u001b[1;33m)\u001b[0m\u001b[1;33m:\u001b[0m\u001b[1;33m\u001b[0m\u001b[1;33m\u001b[0m\u001b[0m\n",
      "\u001b[0;32m     79 \u001b[0m        \u001b[1;32mif\u001b[0m \u001b[0mkey\u001b[0m \u001b[1;32mnot\u001b[0m \u001b[1;32min\u001b[0m \u001b[0mself\u001b[0m\u001b[1;33m.\u001b[0m\u001b[0mmmaps\u001b[0m\u001b[1;33m:\u001b[0m\u001b[1;33m\u001b[0m\u001b[1;33m\u001b[0m\u001b[0m\n",
      "\u001b[0;32m     80 \u001b[0m            \u001b[0mself\u001b[0m\u001b[1;33m.\u001b[0m\u001b[0mmmaps\u001b[0m\u001b[1;33m[\u001b[0m\u001b[0mkey\u001b[0m\u001b[1;33m]\u001b[0m \u001b[1;33m=\u001b[0m \u001b[0mObjectStream\u001b[0m\u001b[1;33m(\u001b[0m\u001b[0mself\u001b[0m\u001b[1;33m.\u001b[0m\u001b[0m_key2path\u001b[0m\u001b[1;33m(\u001b[0m\u001b[0mkey\u001b[0m\u001b[1;33m)\u001b[0m\u001b[1;33m)\u001b[0m\u001b[1;33m\u001b[0m\u001b[1;33m\u001b[0m\u001b[0m\n",
      "\u001b[0;32m     81 \u001b[0m\u001b[1;33m\u001b[0m\u001b[0m\n",
      "\u001b[0;32m     82 \u001b[0m        \u001b[1;32mtry\u001b[0m\u001b[1;33m:\u001b[0m\u001b[1;33m\u001b[0m\u001b[1;33m\u001b[0m\u001b[0m\n",
      "\u001b[0;32m     83 \u001b[0m            \u001b[0mvalue\u001b[0m \u001b[1;33m=\u001b[0m \u001b[0mself\u001b[0m\u001b[1;33m.\u001b[0m\u001b[0mmmaps\u001b[0m\u001b[1;33m[\u001b[0m\u001b[0mkey\u001b[0m\u001b[1;33m]\u001b[0m\u001b[1;33m.\u001b[0m\u001b[0mread\u001b[0m\u001b[1;33m(\u001b[0m\u001b[1;33m)\u001b[0m\u001b[1;33m\u001b[0m\u001b[1;33m\u001b[0m\u001b[0m\n",
      "\u001b[0;32m     84 \u001b[0m        \u001b[1;32mexcept\u001b[0m \u001b[0mpickle\u001b[0m\u001b[1;33m.\u001b[0m\u001b[0mUnpicklingError\u001b[0m \u001b[1;32mas\u001b[0m \u001b[0me\u001b[0m\u001b[1;33m:\u001b[0m\u001b[1;33m\u001b[0m\u001b[1;33m\u001b[0m\u001b[0m\n",
      "\u001b[1;32m---> 85 \u001b[1;33m            \u001b[1;32mraise\u001b[0m \u001b[0mKeyError\u001b[0m\u001b[1;33m(\u001b[0m\u001b[0mkey\u001b[0m\u001b[1;33m)\u001b[0m \u001b[1;32mfrom\u001b[0m \u001b[0me\u001b[0m\u001b[1;33m\u001b[0m\u001b[1;33m\u001b[0m\u001b[0m\n",
      "\u001b[0m\u001b[0;32m     86 \u001b[0m\u001b[1;33m\u001b[0m\u001b[0m\n",
      "\u001b[0;32m     87 \u001b[0m        \u001b[1;32mreturn\u001b[0m \u001b[0mvalue\u001b[0m\u001b[1;33m\u001b[0m\u001b[1;33m\u001b[0m\u001b[0m\n",
      "\u001b[0;32m     88 \u001b[0m\u001b[1;33m\u001b[0m\u001b[0m\n",
      "\n",
      "ipdb> value\n",
      "*** NameError: name 'value' is not defined\n",
      "ipdb> a\n",
      "self = <mmapdict.MMapDict object at 0x00000203B7F4C910>\n",
      "key = 0\n",
      "ipdb> u\n",
      "> \u001b[1;32mc:\\users\\kose\\appdata\\local\\temp\\ipykernel_9324\\742912053.py\u001b[0m(1)\u001b[0;36m<module>\u001b[1;34m()\u001b[0m\n",
      "\n",
      "ipdb> l\n",
      "\u001b[1;32m----> 1 \u001b[1;33m\u001b[1;36m3\u001b[0m \u001b[1;32min\u001b[0m \u001b[0mtemp\u001b[0m\u001b[1;33m\u001b[0m\u001b[1;33m\u001b[0m\u001b[0m\n",
      "\u001b[0m\n",
      "ipdb> q\n"
     ]
    }
   ],
   "source": [
    "%debug"
   ]
  },
  {
   "cell_type": "code",
   "execution_count": null,
   "id": "2ee03121",
   "metadata": {},
   "outputs": [],
   "source": []
  },
  {
   "cell_type": "code",
   "execution_count": 15,
   "id": "0506ac8b",
   "metadata": {},
   "outputs": [
    {
     "data": {
      "text/plain": [
       "b'                                                                                                    '"
      ]
     },
     "execution_count": 15,
     "metadata": {},
     "output_type": "execute_result"
    }
   ],
   "source": [
    "bytes(' '*100, encoding='utf-8')"
   ]
  },
  {
   "cell_type": "code",
   "execution_count": 4,
   "id": "f44f98b4",
   "metadata": {},
   "outputs": [],
   "source": [
    "temp = ObjectStream('./mmap.txt')"
   ]
  },
  {
   "cell_type": "code",
   "execution_count": 9,
   "id": "f60814fc",
   "metadata": {},
   "outputs": [],
   "source": [
    "temp.write(np.arange(100))"
   ]
  },
  {
   "cell_type": "code",
   "execution_count": 10,
   "id": "3cd7e4dd",
   "metadata": {},
   "outputs": [
    {
     "data": {
      "text/plain": [
       "array([ 0,  1,  2,  3,  4,  5,  6,  7,  8,  9, 10, 11, 12, 13, 14, 15, 16,\n",
       "       17, 18, 19, 20, 21, 22, 23, 24, 25, 26, 27, 28, 29, 30, 31, 32, 33,\n",
       "       34, 35, 36, 37, 38, 39, 40, 41, 42, 43, 44, 45, 46, 47, 48, 49, 50,\n",
       "       51, 52, 53, 54, 55, 56, 57, 58, 59, 60, 61, 62, 63, 64, 65, 66, 67,\n",
       "       68, 69, 70, 71, 72, 73, 74, 75, 76, 77, 78, 79, 80, 81, 82, 83, 84,\n",
       "       85, 86, 87, 88, 89, 90, 91, 92, 93, 94, 95, 96, 97, 98, 99])"
      ]
     },
     "execution_count": 10,
     "metadata": {},
     "output_type": "execute_result"
    }
   ],
   "source": [
    "temp.read()"
   ]
  },
  {
   "cell_type": "code",
   "execution_count": 17,
   "id": "65418e2e",
   "metadata": {},
   "outputs": [
    {
     "data": {
      "text/plain": [
       "256"
      ]
     },
     "execution_count": 17,
     "metadata": {},
     "output_type": "execute_result"
    }
   ],
   "source": [
    "len(mm)"
   ]
  },
  {
   "cell_type": "code",
   "execution_count": 39,
   "id": "f3857f2b",
   "metadata": {},
   "outputs": [],
   "source": [
    "mm.close()"
   ]
  },
  {
   "cell_type": "code",
   "execution_count": 28,
   "id": "d6c88ade",
   "metadata": {},
   "outputs": [
    {
     "data": {
      "text/plain": [
       "<mmap.mmap closed=False, access=ACCESS_DEFAULT, length=256, pos=149, offset=0>"
      ]
     },
     "execution_count": 28,
     "metadata": {},
     "output_type": "execute_result"
    }
   ],
   "source": [
    "mm"
   ]
  },
  {
   "cell_type": "code",
   "execution_count": 26,
   "id": "bf8da26f",
   "metadata": {},
   "outputs": [
    {
     "data": {
      "text/plain": [
       "b'0'"
      ]
     },
     "execution_count": 26,
     "metadata": {},
     "output_type": "execute_result"
    }
   ],
   "source": [
    "mm[:1]"
   ]
  },
  {
   "cell_type": "code",
   "execution_count": null,
   "id": "3c4cd461",
   "metadata": {},
   "outputs": [],
   "source": []
  }
 ],
 "metadata": {
  "kernelspec": {
   "display_name": "Python 3",
   "language": "python",
   "name": "python3"
  },
  "language_info": {
   "codemirror_mode": {
    "name": "ipython",
    "version": 3
   },
   "file_extension": ".py",
   "mimetype": "text/x-python",
   "name": "python",
   "nbconvert_exporter": "python",
   "pygments_lexer": "ipython3",
   "version": "3.9.5"
  }
 },
 "nbformat": 4,
 "nbformat_minor": 5
}
