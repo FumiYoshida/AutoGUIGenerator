{
 "cells": [
  {
   "cell_type": "code",
   "execution_count": 1,
   "id": "1e0bf38a",
   "metadata": {},
   "outputs": [],
   "source": [
    "import sys;sys.path.append('../')\n",
    "from src.guigen.app import Application\n",
    "from src.guigen.utils import time_manager"
   ]
  },
  {
   "cell_type": "code",
   "execution_count": 2,
   "id": "7d39789f",
   "metadata": {},
   "outputs": [],
   "source": [
    "#from guigen import Application, time_manager\n",
    "import numpy as np\n",
    "import pandas as pd\n",
    "\n",
    "class Furiko:\n",
    "    def __init__(self):\n",
    "        self.theta_0 = np.pi / 4 # 初期の角度\n",
    "        self.marker_size = 12\n",
    "        self.start_time = time_manager.now()\n",
    "        \n",
    "        self.app = Application(\n",
    "            calculator_main=self.main,\n",
    "            calculator_dt=50,\n",
    "            visualizer_dt=10,\n",
    "        )\n",
    "        \n",
    "        self.app.button(self.random)\n",
    "        self.app.add_figure_from_func(self.init_anim, self.update_anim)\n",
    "        \n",
    "        self.app.start()\n",
    "        \n",
    "    def random(self):\n",
    "        self.im.set_color(np.random.rand(3,))\n",
    "        \n",
    "    def main(self):\n",
    "        seconds = (time_manager.now() - self.start_time) / pd.Timedelta(1, 's')\n",
    "        bpm = self.app.get_float('bpm', 30, 200, 1)\n",
    "        self.g = 1.62 if self.app.get_bool(\"apply lunar gravity\") else 9.8   # 重力加速度\n",
    "        self.T = round(1 / (bpm / 60), 2) # BPを取得し、周期の計算\n",
    "        self.l = (self.T ** 2) * self.g / (4 * np.pi ** 2)  # 振り子の長さを計算\n",
    "        self.omega = np.sqrt(self.g / self.l)  # 角速度\n",
    "        self.theta = self.theta_0 * np.cos(self.omega * seconds) # 角度を計算\n",
    "        self.x = self.l * np.sin(self.theta) # おもりのx座標\n",
    "        self.y = - self.l * np.cos(self.theta) # おもりのy座標\n",
    "        \n",
    "    def init_anim(self, ax):\n",
    "        '''アニメーション初期化用の関数'''\n",
    "        ax.set_xlim(-1.2,1.2)\n",
    "        ax.set_ylim(-1.2,1.2)\n",
    "        self.x = 0\n",
    "        self.y = 0\n",
    "        self.theta = 0\n",
    "        self.im, = ax.plot([], [], color='k', marker='o', markersize=int(self.marker_size), linestyle='None')\n",
    "        self.line, = ax.plot([], [], color='k')\n",
    "        return self.im, self.line\n",
    "\n",
    "    def update_anim(self, dt, ax):\n",
    "        '''グラフ更新関数'''\n",
    "        self.im.set_data(self.x, self.y)\n",
    "        self.line.set_data([0, np.sin(self.theta)], [0, -np.cos(self.theta)])\n",
    "        return self.im, self.line"
   ]
  },
  {
   "cell_type": "code",
   "execution_count": 3,
   "id": "82203dd4",
   "metadata": {},
   "outputs": [
    {
     "data": {
      "image/png": "[encoded data removed]",
      "text/plain": [
       "<Figure size 360x360 with 1 Axes>"
      ]
     },
     "metadata": {
      "needs_background": "light"
     },
     "output_type": "display_data"
    }
   ],
   "source": [
    "furiko = Furiko()"
   ]
  },
  {
   "cell_type": "code",
   "execution_count": 12,
   "id": "0c4d1141",
   "metadata": {},
   "outputs": [
    {
     "data": {
      "text/plain": [
       "Timestamp('2022-12-15 17:01:28.656746+0900', tz='Asia/Tokyo')"
      ]
     },
     "execution_count": 12,
     "metadata": {},
     "output_type": "execute_result"
    }
   ],
   "source": [
    "called_time"
   ]
  },
  {
   "cell_type": "code",
   "execution_count": null,
   "id": "51bddead",
   "metadata": {},
   "outputs": [],
   "source": []
  },
  {
   "cell_type": "code",
   "execution_count": 10,
   "id": "3ecb0ba0",
   "metadata": {},
   "outputs": [
    {
     "data": {
      "text/plain": [
       "False"
      ]
     },
     "execution_count": 10,
     "metadata": {},
     "output_type": "execute_result"
    }
   ],
   "source": [
    "furiko.app.scheduler.should_stop"
   ]
  },
  {
   "cell_type": "code",
   "execution_count": 13,
   "id": "7e3caad3",
   "metadata": {},
   "outputs": [
    {
     "data": {
      "text/plain": [
       "[<bound method Furiko.main of <__main__.Furiko object at 0x00000192C1084F70>>]"
      ]
     },
     "execution_count": 13,
     "metadata": {},
     "output_type": "execute_result"
    }
   ],
   "source": [
    "furiko.app.scheduler.tasks"
   ]
  },
  {
   "cell_type": "code",
   "execution_count": null,
   "id": "23ce5d22",
   "metadata": {},
   "outputs": [],
   "source": [
    "furiko.app.scheduler.exec_all_tasks()"
   ]
  },
  {
   "cell_type": "code",
   "execution_count": null,
   "id": "bbcaac45",
   "metadata": {},
   "outputs": [],
   "source": []
  }
 ],
 "metadata": {
  "kernelspec": {
   "display_name": "Python 3 (ipykernel)",
   "language": "python",
   "name": "python3"
  },
  "language_info": {
   "codemirror_mode": {
    "name": "ipython",
    "version": 3
   },
   "file_extension": ".py",
   "mimetype": "text/x-python",
   "name": "python",
   "nbconvert_exporter": "python",
   "pygments_lexer": "ipython3",
   "version": "3.9.9"
  }
 },
 "nbformat": 4,
 "nbformat_minor": 5
}
