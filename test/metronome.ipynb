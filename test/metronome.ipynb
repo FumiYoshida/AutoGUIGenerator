{
 "cells": [
  {
   "cell_type": "code",
   "execution_count": 1,
   "id": "1e0bf38a",
   "metadata": {},
   "outputs": [],
   "source": [
    "import sys;sys.path.append('../')\n",
    "from src.guigen.app import Application\n",
    "from src.guigen.utils import time_manager"
   ]
  },
  {
   "cell_type": "code",
   "execution_count": 2,
   "id": "7d39789f",
   "metadata": {},
   "outputs": [],
   "source": [
    "#from guigen import Application, time_manager\n",
    "import numpy as np\n",
    "import pandas as pd\n",
    "\n",
    "class Furiko:\n",
    "    def __init__(self):\n",
    "        self.theta_0 = np.pi / 4 # 初期の角度\n",
    "        self.marker_size = 12\n",
    "        self.start_time = time_manager.now()\n",
    "        \n",
    "        self.app = Application(\n",
    "            calculator_main=self.main,\n",
    "            calculator_dt=50,\n",
    "            visualizer_dt=10,\n",
    "        )\n",
    "        \n",
    "        self.app.button(self.random)\n",
    "        self.app.add_figure('furiko', self.init_anim, self.update_anim)\n",
    "        \n",
    "        self.app.start()\n",
    "        \n",
    "    def random(self):\n",
    "        self.im.set_color(np.random.rand(3,))\n",
    "        \n",
    "    def main(self):\n",
    "        seconds = (time_manager.now() - self.start_time) / pd.Timedelta(1, 's')\n",
    "        bpm = self.app.get_float('bpm', 30, 200, 1)\n",
    "        self.g = 1.62 if self.app.get_bool(\"apply lunar gravity\") else 9.8   # 重力加速度\n",
    "        self.T = round(1 / (bpm / 60), 2) # BPを取得し、周期の計算\n",
    "        self.l = (self.T ** 2) * self.g / (4 * np.pi ** 2)  # 振り子の長さを計算\n",
    "        self.omega = np.sqrt(self.g / self.l)  # 角速度\n",
    "        self.theta = self.theta_0 * np.cos(self.omega * seconds) # 角度を計算\n",
    "        self.x = self.l * np.sin(self.theta) # おもりのx座標\n",
    "        self.y = - self.l * np.cos(self.theta) # おもりのy座標\n",
    "        \n",
    "        self.app.text(\"theta\", f\"{self.theta:.3}\")\n",
    "        global called_time\n",
    "        called_time = time_manager.now()\n",
    "        #print(called_time)\n",
    "        \n",
    "    def init_anim(self, ax):\n",
    "        '''アニメーション初期化用の関数'''\n",
    "        ax.set_xlim(-1.2,1.2)\n",
    "        ax.set_ylim(-1.2,1.2)\n",
    "        self.x = 0\n",
    "        self.y = 0\n",
    "        self.theta = 0\n",
    "        self.im, = ax.plot([], [], color='k', marker='o', markersize=int(self.marker_size), linestyle='None')\n",
    "        self.line, = ax.plot([], [], color='k')\n",
    "        return self.im, self.line\n",
    "\n",
    "    def update_anim(self, dt, ax):\n",
    "        '''グラフ更新関数'''\n",
    "        self.im.set_data(self.x, self.y)\n",
    "        self.line.set_data([0, np.sin(self.theta)], [0, -np.cos(self.theta)])\n",
    "        return self.im, self.line"
   ]
  },
  {
   "cell_type": "code",
   "execution_count": 3,
   "id": "1cabc979",
   "metadata": {},
   "outputs": [],
   "source": [
    "called_time = time_manager.now()"
   ]
  },
  {
   "cell_type": "code",
   "execution_count": 4,
   "id": "82203dd4",
   "metadata": {},
   "outputs": [
    {
     "name": "stdout",
     "output_type": "stream",
     "text": [
      "2022-12-15 17:01:21.481891+09:00\n",
      "2022-12-15 17:01:21.482888+09:00\n",
      "2022-12-15 17:01:21.511811+09:00\n",
      "2022-12-15 17:01:21.583127+09:00\n",
      "2022-12-15 17:01:21.618034+09:00\n",
      "2022-12-15 17:01:21.674907+09:00\n",
      "2022-12-15 17:01:21.721755+09:00\n",
      "2022-12-15 17:01:21.778629+09:00\n",
      "2022-12-15 17:01:21.835478+09:00\n",
      "2022-12-15 17:01:21.881329+09:00\n",
      "2022-12-15 17:01:21.930199+09:00\n",
      "2022-12-15 17:01:21.977072+09:00\n",
      "2022-12-15 17:01:22.033920+09:00\n",
      "2022-12-15 17:01:22.090275+09:00\n",
      "2022-12-15 17:01:22.147134+09:00\n",
      "2022-12-15 17:01:22.193224+09:00\n",
      "2022-12-15 17:01:22.239180+09:00\n",
      "2022-12-15 17:01:22.297115+09:00\n",
      "2022-12-15 17:01:22.353366+09:00\n",
      "2022-12-15 17:01:22.399274+09:00\n",
      "2022-12-15 17:01:22.456093+09:00\n",
      "2022-12-15 17:01:22.503234+09:00\n",
      "2022-12-15 17:01:22.548113+09:00\n",
      "2022-12-15 17:01:22.607113+09:00\n",
      "2022-12-15 17:01:22.656213+09:00\n",
      "2022-12-15 17:01:22.701093+09:00\n",
      "2022-12-15 17:01:22.758228+09:00\n",
      "2022-12-15 17:01:22.794103+09:00\n",
      "2022-12-15 17:01:22.852202+09:00\n",
      "2022-12-15 17:01:22.912104+09:00\n",
      "2022-12-15 17:01:22.959415+09:00\n",
      "2022-12-15 17:01:23.017918+09:00\n",
      "2022-12-15 17:01:23.064918+09:00\n",
      "2022-12-15 17:01:23.112003+09:00\n",
      "2022-12-15 17:01:23.170003+09:00\n",
      "2022-12-15 17:01:23.216352+09:00\n",
      "2022-12-15 17:01:23.274317+09:00\n",
      "2022-12-15 17:01:23.321305+09:00\n",
      "2022-12-15 17:01:23.377325+09:00\n",
      "2022-12-15 17:01:23.422314+09:00\n",
      "2022-12-15 17:01:23.479539+09:00\n",
      "2022-12-15 17:01:23.525197+09:00\n",
      "2022-12-15 17:01:23.583034+09:00\n",
      "2022-12-15 17:01:23.628484+09:00\n",
      "2022-12-15 17:01:23.685332+09:00\n",
      "2022-12-15 17:01:23.731210+09:00\n",
      "2022-12-15 17:01:23.789080+09:00\n",
      "2022-12-15 17:01:23.834964+09:00\n",
      "2022-12-15 17:01:23.882220+09:00\n",
      "2022-12-15 17:01:23.940066+09:00\n",
      "2022-12-15 17:01:23.995905+09:00\n",
      "2022-12-15 17:01:24.041864+09:00\n",
      "2022-12-15 17:01:24.098741+09:00\n",
      "2022-12-15 17:01:24.134257+09:00\n",
      "2022-12-15 17:01:24.192102+09:00\n",
      "2022-12-15 17:01:24.251789+09:00\n",
      "2022-12-15 17:01:24.287389+09:00\n",
      "2022-12-15 17:01:24.345209+09:00\n",
      "2022-12-15 17:01:24.404929+09:00\n",
      "2022-12-15 17:01:24.451798+09:00\n",
      "2022-12-15 17:01:24.499243+09:00\n",
      "2022-12-15 17:01:24.557088+09:00\n",
      "2022-12-15 17:01:24.601968+09:00\n",
      "2022-12-15 17:01:24.648856+09:00\n",
      "2022-12-15 17:01:24.694772+09:00\n",
      "2022-12-15 17:01:24.763270+09:00\n",
      "2022-12-15 17:01:24.808150+09:00\n",
      "2022-12-15 17:01:24.854313+09:00\n",
      "2022-12-15 17:01:24.912281+09:00\n",
      "2022-12-15 17:01:24.950154+09:00\n",
      "2022-12-15 17:01:25.021221+09:00\n",
      "2022-12-15 17:01:25.069093+09:00\n",
      "2022-12-15 17:01:25.104022+09:00\n",
      "2022-12-15 17:01:25.163086+09:00\n",
      "2022-12-15 17:01:25.220527+09:00\n",
      "2022-12-15 17:01:25.256431+09:00\n",
      "2022-12-15 17:01:25.325247+09:00\n",
      "2022-12-15 17:01:25.371123+09:00\n",
      "2022-12-15 17:01:25.427926+09:00\n",
      "2022-12-15 17:01:25.462833+09:00\n",
      "2022-12-15 17:01:25.531153+09:00\n",
      "2022-12-15 17:01:25.586916+09:00\n",
      "2022-12-15 17:01:25.632768+09:00\n",
      "2022-12-15 17:01:25.668671+09:00\n",
      "2022-12-15 17:01:25.736517+09:00\n",
      "2022-12-15 17:01:25.781254+09:00\n",
      "2022-12-15 17:01:25.827997+09:00\n",
      "2022-12-15 17:01:25.874426+09:00\n",
      "2022-12-15 17:01:25.931978+09:00\n",
      "2022-12-15 17:01:25.986512+09:00\n",
      "2022-12-15 17:01:26.043338+09:00\n",
      "2022-12-15 17:01:26.088243+09:00\n",
      "2022-12-15 17:01:26.144109+09:00\n",
      "2022-12-15 17:01:26.199487+09:00\n",
      "2022-12-15 17:01:26.244219+09:00\n",
      "2022-12-15 17:01:26.299668+09:00\n",
      "2022-12-15 17:01:26.355387+09:00\n",
      "2022-12-15 17:01:26.399745+09:00\n",
      "2022-12-15 17:01:26.455334+09:00\n",
      "2022-12-15 17:01:26.499219+09:00\n",
      "2022-12-15 17:01:26.556066+09:00\n",
      "2022-12-15 17:01:26.610920+09:00\n",
      "2022-12-15 17:01:26.654827+09:00\n",
      "2022-12-15 17:01:26.710679+09:00\n",
      "2022-12-15 17:01:26.756038+09:00\n",
      "2022-12-15 17:01:26.801935+09:00\n",
      "2022-12-15 17:01:26.857783+09:00\n",
      "2022-12-15 17:01:26.903184+09:00\n",
      "2022-12-15 17:01:26.960035+09:00\n",
      "2022-12-15 17:01:27.017905+09:00\n",
      "2022-12-15 17:01:27.075581+09:00\n",
      "2022-12-15 17:01:27.119468+09:00\n",
      "2022-12-15 17:01:27.163771+09:00\n",
      "2022-12-15 17:01:27.219734+09:00\n",
      "2022-12-15 17:01:27.264641+09:00\n",
      "2022-12-15 17:01:27.330787+09:00\n",
      "2022-12-15 17:01:27.375519+09:00\n",
      "2022-12-15 17:01:27.430609+09:00\n",
      "2022-12-15 17:01:27.486488+09:00\n",
      "2022-12-15 17:01:27.521344+09:00\n",
      "2022-12-15 17:01:27.576885+09:00\n",
      "2022-12-15 17:01:27.633181+09:00\n",
      "2022-12-15 17:01:27.689032+09:00\n",
      "2022-12-15 17:01:27.734698+09:00\n",
      "2022-12-15 17:01:27.790994+09:00\n",
      "2022-12-15 17:01:27.835006+09:00\n",
      "2022-12-15 17:01:27.890004+09:00\n",
      "2022-12-15 17:01:27.946593+09:00\n",
      "2022-12-15 17:01:27.990527+09:00\n",
      "2022-12-15 17:01:28.046562+09:00\n",
      "2022-12-15 17:01:28.090448+09:00\n",
      "2022-12-15 17:01:28.135009+09:00\n",
      "2022-12-15 17:01:28.183494+09:00\n",
      "2022-12-15 17:01:28.241313+09:00\n",
      "2022-12-15 17:01:28.286874+09:00\n",
      "2022-12-15 17:01:28.352699+09:00\n",
      "2022-12-15 17:01:28.397556+09:00\n",
      "2022-12-15 17:01:28.442986+09:00\n",
      "2022-12-15 17:01:28.499016+09:00\n",
      "2022-12-15 17:01:28.554011+09:00\n",
      "2022-12-15 17:01:28.600587+09:00\n",
      "2022-12-15 17:01:28.656746+09:00\n"
     ]
    },
    {
     "data": {
      "image/png": "[encoded data removed]",
      "text/plain": [
       "<Figure size 360x360 with 1 Axes>"
      ]
     },
     "metadata": {
      "needs_background": "light"
     },
     "output_type": "display_data"
    }
   ],
   "source": [
    "furiko = Furiko()"
   ]
  },
  {
   "cell_type": "code",
   "execution_count": 12,
   "id": "0618408a",
   "metadata": {},
   "outputs": [
    {
     "data": {
      "text/plain": [
       "Timestamp('2022-12-15 17:01:28.656746+0900', tz='Asia/Tokyo')"
      ]
     },
     "execution_count": 12,
     "metadata": {},
     "output_type": "execute_result"
    }
   ],
   "source": [
    "called_time"
   ]
  },
  {
   "cell_type": "code",
   "execution_count": null,
   "id": "08939edd",
   "metadata": {},
   "outputs": [],
   "source": []
  },
  {
   "cell_type": "code",
   "execution_count": 10,
   "id": "82ee9438",
   "metadata": {},
   "outputs": [
    {
     "data": {
      "text/plain": [
       "False"
      ]
     },
     "execution_count": 10,
     "metadata": {},
     "output_type": "execute_result"
    }
   ],
   "source": [
    "furiko.app.scheduler.should_stop"
   ]
  },
  {
   "cell_type": "code",
   "execution_count": 13,
   "id": "26610ac8",
   "metadata": {},
   "outputs": [
    {
     "data": {
      "text/plain": [
       "[<bound method Furiko.main of <__main__.Furiko object at 0x00000192C1084F70>>]"
      ]
     },
     "execution_count": 13,
     "metadata": {},
     "output_type": "execute_result"
    }
   ],
   "source": [
    "furiko.app.scheduler.tasks"
   ]
  },
  {
   "cell_type": "code",
   "execution_count": null,
   "id": "03c16417",
   "metadata": {},
   "outputs": [],
   "source": [
    "furiko.app.scheduler.exec_all_tasks()"
   ]
  },
  {
   "cell_type": "code",
   "execution_count": null,
   "id": "82c49e4d",
   "metadata": {},
   "outputs": [],
   "source": []
  }
 ],
 "metadata": {
  "kernelspec": {
   "display_name": "Python 3 (ipykernel)",
   "language": "python",
   "name": "python3"
  },
  "language_info": {
   "codemirror_mode": {
    "name": "ipython",
    "version": 3
   },
   "file_extension": ".py",
   "mimetype": "text/x-python",
   "name": "python",
   "nbconvert_exporter": "python",
   "pygments_lexer": "ipython3",
   "version": "3.9.9"
  }
 },
 "nbformat": 4,
 "nbformat_minor": 5
}
