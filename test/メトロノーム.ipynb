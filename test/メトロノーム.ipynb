{
 "cells": [
  {
   "cell_type": "code",
   "execution_count": 1,
   "id": "126f2f1c",
   "metadata": {},
   "outputs": [
    {
     "ename": "ImportError",
     "evalue": "cannot import name 'Application' from 'guigen' (C:\\Users\\kose\\AppData\\Local\\Programs\\Python\\Python39\\lib\\site-packages\\guigen\\__init__.py)",
     "output_type": "error",
     "traceback": [
      "\u001b[1;31m---------------------------------------------------------------------------\u001b[0m",
      "\u001b[1;31mImportError\u001b[0m                               Traceback (most recent call last)",
      "\u001b[1;32m~\\AppData\\Local\\Temp/ipykernel_6760/1823549690.py\u001b[0m in \u001b[0;36m<module>\u001b[1;34m\u001b[0m\n\u001b[1;32m----> 1\u001b[1;33m \u001b[1;32mfrom\u001b[0m \u001b[0mguigen\u001b[0m \u001b[1;32mimport\u001b[0m \u001b[0mApplication\u001b[0m\u001b[1;33m\u001b[0m\u001b[1;33m\u001b[0m\u001b[0m\n\u001b[0m",
      "\u001b[1;31mImportError\u001b[0m: cannot import name 'Application' from 'guigen' (C:\\Users\\kose\\AppData\\Local\\Programs\\Python\\Python39\\lib\\site-packages\\guigen\\__init__.py)"
     ]
    }
   ],
   "source": [
    "from guigen import Application"
   ]
  },
  {
   "cell_type": "code",
   "execution_count": 2,
   "id": "ea94504f",
   "metadata": {},
   "outputs": [],
   "source": [
    "import guigen"
   ]
  },
  {
   "cell_type": "code",
   "execution_count": 4,
   "id": "30d5d05b",
   "metadata": {},
   "outputs": [
    {
     "ename": "AttributeError",
     "evalue": "module 'guigen' has no attribute 'app'",
     "output_type": "error",
     "traceback": [
      "\u001b[1;31m---------------------------------------------------------------------------\u001b[0m",
      "\u001b[1;31mAttributeError\u001b[0m                            Traceback (most recent call last)",
      "\u001b[1;32m~\\AppData\\Local\\Temp/ipykernel_6760/1722529956.py\u001b[0m in \u001b[0;36m<module>\u001b[1;34m\u001b[0m\n\u001b[1;32m----> 1\u001b[1;33m \u001b[0mguigen\u001b[0m\u001b[1;33m.\u001b[0m\u001b[0mapp\u001b[0m\u001b[1;33m\u001b[0m\u001b[1;33m\u001b[0m\u001b[0m\n\u001b[0m",
      "\u001b[1;31mAttributeError\u001b[0m: module 'guigen' has no attribute 'app'"
     ]
    }
   ],
   "source": [
    "guigen.app"
   ]
  },
  {
   "cell_type": "code",
   "execution_count": null,
   "id": "4fdf2f8b",
   "metadata": {},
   "outputs": [],
   "source": []
  },
  {
   "cell_type": "code",
   "execution_count": null,
   "id": "d99068a5",
   "metadata": {},
   "outputs": [],
   "source": []
  },
  {
   "cell_type": "code",
   "execution_count": 1,
   "id": "7d39789f",
   "metadata": {},
   "outputs": [
    {
     "ename": "ModuleNotFoundError",
     "evalue": "No module named 'app'",
     "output_type": "error",
     "traceback": [
      "\u001b[1;31m---------------------------------------------------------------------------\u001b[0m",
      "\u001b[1;31mModuleNotFoundError\u001b[0m                       Traceback (most recent call last)",
      "\u001b[1;32m~\\AppData\\Local\\Temp/ipykernel_20896/3162756063.py\u001b[0m in \u001b[0;36m<module>\u001b[1;34m\u001b[0m\n\u001b[0;32m      2\u001b[0m \u001b[1;32mimport\u001b[0m \u001b[0mpandas\u001b[0m \u001b[1;32mas\u001b[0m \u001b[0mpd\u001b[0m\u001b[1;33m\u001b[0m\u001b[1;33m\u001b[0m\u001b[0m\n\u001b[0;32m      3\u001b[0m \u001b[1;33m\u001b[0m\u001b[0m\n\u001b[1;32m----> 4\u001b[1;33m \u001b[1;32mfrom\u001b[0m \u001b[0mapp\u001b[0m \u001b[1;32mimport\u001b[0m \u001b[0mApplication\u001b[0m\u001b[1;33m\u001b[0m\u001b[1;33m\u001b[0m\u001b[0m\n\u001b[0m\u001b[0;32m      5\u001b[0m \u001b[1;32mfrom\u001b[0m \u001b[0mutils\u001b[0m \u001b[1;32mimport\u001b[0m \u001b[0mtime_manager\u001b[0m\u001b[1;33m\u001b[0m\u001b[1;33m\u001b[0m\u001b[0m\n\u001b[0;32m      6\u001b[0m \u001b[1;33m\u001b[0m\u001b[0m\n",
      "\u001b[1;31mModuleNotFoundError\u001b[0m: No module named 'app'"
     ]
    }
   ],
   "source": [
    "import numpy as np\n",
    "import pandas as pd\n",
    "\n",
    "from src.app import Application\n",
    "from utils import time_manager\n",
    "\n",
    "class Furiko:\n",
    "    def __init__(self):\n",
    "        self.theta_0 = np.pi / 4 # 初期の角度\n",
    "        self.marker_size = 12\n",
    "        self.start_time = time_manager.now()\n",
    "        \n",
    "        self.app = Application(\n",
    "            calculator_main=self.main,\n",
    "            calculator_dt=50,\n",
    "            visualizer_dt=10,\n",
    "        )\n",
    "        \n",
    "        self.app.button(self.random)\n",
    "        self.app.add_figure('furiko', self.init_anim, self.update_anim)\n",
    "        \n",
    "        self.app.start()\n",
    "        \n",
    "    def random(self):\n",
    "        self.im.set_color(np.random.rand(3,))\n",
    "        \n",
    "    def main(self):\n",
    "        seconds = (time_manager.now() - self.start_time) / pd.Timedelta(1, 's')\n",
    "        bpm = self.app.get_float('bpm', 30, 200, 1)\n",
    "        self.g = 1.62 if self.app.get_bool(\"apply lunar gravity\") else 9.8   # 重力加速度\n",
    "        self.T = round(1 / (bpm / 60), 2) # BPを取得し、周期の計算\n",
    "        self.l = (self.T ** 2) * self.g / (4 * np.pi ** 2)  # 振り子の長さを計算\n",
    "        self.omega = np.sqrt(self.g / self.l)  # 角速度\n",
    "        self.theta = self.theta_0 * np.cos(self.omega * seconds) # 角度を計算\n",
    "        self.x = self.l * np.sin(self.theta) # おもりのx座標\n",
    "        self.y = - self.l * np.cos(self.theta) # おもりのy座標\n",
    "        \n",
    "    def init_anim(self, ax):\n",
    "        '''アニメーション初期化用の関数'''\n",
    "        ax.set_xlim(-1.2,1.2)\n",
    "        ax.set_ylim(-1.2,1.2)\n",
    "        self.x = 0\n",
    "        self.y = 0\n",
    "        self.theta = 0\n",
    "        self.im, = ax.plot([], [], color='k', marker='o', markersize=int(self.marker_size), linestyle='None')\n",
    "        self.line, = ax.plot([], [], color='k')\n",
    "        return self.im, self.line\n",
    "\n",
    "    def update_anim(self, dt, ax):\n",
    "        '''グラフ更新関数'''\n",
    "        self.im.set_data(self.x, self.y)\n",
    "        self.line.set_data([0, np.sin(self.theta)], [0, -np.cos(self.theta)])\n",
    "        return self.im, self.line"
   ]
  },
  {
   "cell_type": "code",
   "execution_count": 12,
   "id": "82203dd4",
   "metadata": {},
   "outputs": [
    {
     "data": {
      "image/png": "[encoded data removed]",
      "text/plain": [
       "<Figure size 360x360 with 1 Axes>"
      ]
     },
     "metadata": {
      "needs_background": "light"
     },
     "output_type": "display_data"
    }
   ],
   "source": [
    "furiko = Furiko()"
   ]
  },
  {
   "cell_type": "code",
   "execution_count": null,
   "id": "9edc7a35",
   "metadata": {},
   "outputs": [],
   "source": []
  }
 ],
 "metadata": {
  "kernelspec": {
   "display_name": "Python 3 (ipykernel)",
   "language": "python",
   "name": "python3"
  },
  "language_info": {
   "codemirror_mode": {
    "name": "ipython",
    "version": 3
   },
   "file_extension": ".py",
   "mimetype": "text/x-python",
   "name": "python",
   "nbconvert_exporter": "python",
   "pygments_lexer": "ipython3",
   "version": "3.9.9"
  }
 },
 "nbformat": 4,
 "nbformat_minor": 5
}
